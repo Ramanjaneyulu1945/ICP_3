{
 "cells": [
  {
   "cell_type": "code",
   "execution_count": 2,
   "id": "6d16ecbd",
   "metadata": {},
   "outputs": [
    {
     "name": "stdout",
     "output_type": "stream",
     "text": [
      "Average Salary: 75000.0\n",
      "Total Employees: 3\n"
     ]
    }
   ],
   "source": [
    "class Employee:\n",
    "    # Class variable to count number of employees\n",
    "    employee_count = 0\n",
    "    total_salary = 0\n",
    "\n",
    "    def __init__(self, name, family, salary, department):\n",
    "        self.name = name\n",
    "        self.family = family\n",
    "        self.salary = salary\n",
    "        self.department = department\n",
    "        Employee.employee_count += 1\n",
    "        Employee.total_salary += salary\n",
    "\n",
    "    @classmethod\n",
    "    def average_salary(cls):\n",
    "        if cls.employee_count > 0:\n",
    "            return cls.total_salary / cls.employee_count\n",
    "        else:\n",
    "            return 0\n",
    "\n",
    "class FulltimeEmployee(Employee):\n",
    "    # Inherits everything from Employee\n",
    "    pass\n",
    "\n",
    "# Creating an instance of Employee\n",
    "emp1 = Employee(\"mani\", \"sekhar\", 80000, \"HR\")\n",
    "emp2 = Employee(\"karthik\", \"sekhar\", 55000, \"Finance\")\n",
    "\n",
    "# Creating an instance of FulltimeEmployee\n",
    "fte1 = FulltimeEmployee(\"veera\", \"nani\", 90000, \"Engineering\")\n",
    "\n",
    "# Displaying average salary\n",
    "print(f\"Average Salary: {Employee.average_salary()}\")\n",
    "\n",
    "# Output total number of employees\n",
    "print(f\"Total Employees: {Employee.employee_count}\")"
   ]
  },
  {
   "cell_type": "code",
   "execution_count": 3,
   "id": "58c0fdd4",
   "metadata": {},
   "outputs": [
    {
     "name": "stdout",
     "output_type": "stream",
     "text": [
      "[[ 2.03804105  7.61459289  3.26846517  9.87228628  0.        ]\n",
      " [ 6.80715016 16.45394628  0.          9.439504    4.17433083]\n",
      " [ 0.          9.99376022  1.76011318 15.80438887  3.3668869 ]\n",
      " [ 1.75088819  0.         13.19067576  7.39395781 13.31812334]]\n"
     ]
    }
   ],
   "source": [
    "import numpy as np\n",
    "\n",
    "# Create a random vector of size 20 with values in the range 1-20\n",
    "random_vector = np.random.uniform(low=1.0, high=20.0, size=20)\n",
    "\n",
    "# Reshape the array to 4x5\n",
    "reshaped_array = random_vector.reshape(4, 5)\n",
    "\n",
    "# Replace the max in each row by 0 without using a for loop\n",
    "reshaped_array[np.arange(4), reshaped_array.argmax(axis=1)] = 0\n",
    "\n",
    "print(reshaped_array)"
   ]
  },
  {
   "cell_type": "code",
   "execution_count": null,
   "id": "c4962523",
   "metadata": {},
   "outputs": [],
   "source": []
  }
 ],
 "metadata": {
  "kernelspec": {
   "display_name": "Python 3 (ipykernel)",
   "language": "python",
   "name": "python3"
  },
  "language_info": {
   "codemirror_mode": {
    "name": "ipython",
    "version": 3
   },
   "file_extension": ".py",
   "mimetype": "text/x-python",
   "name": "python",
   "nbconvert_exporter": "python",
   "pygments_lexer": "ipython3",
   "version": "3.11.5"
  }
 },
 "nbformat": 4,
 "nbformat_minor": 5
}
